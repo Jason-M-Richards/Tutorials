{
 "cells": [
  {
   "cell_type": "markdown",
   "metadata": {},
   "source": [
    "# Intro to Machine Learning with scikit-learn\n",
    "\n",
    "## Resources\n",
    "* [Scikit-learn docs][1]\n",
    "* [Master Machine Learning with Python by Ted Petrou][2]\n",
    "* [Dunder Data][3]\n",
    "\n",
    "[1]: http://scikit-learn.org/stable/\n",
    "[2]: https://www.dunderdata.com/offers/zL9AKLct/checkout\n",
    "[3]: https://www.dunderdata.com\n",
    "\n",
    "## Typical Workflow for Beginners\n",
    "* Find dataset\n",
    "    * [Kaggle Datasets](https://www.kaggle.com/datasets)\n",
    "    * [data.world](https://data.world/)\n",
    "    * [data.gov](https://www.data.gov/)\n",
    " \n",
    "\n",
    "* Read data into Pandas\n",
    "* Clean data\n",
    "* Exploratory data analysis with basic statistics and visualizations\n",
    "* Define Problem\n",
    "* Train and Evaluate model with Scikit-Learn"
   ]
  },
  {
   "cell_type": "markdown",
   "metadata": {},
   "source": [
    "## Learning vs Machine Learning\n",
    "\n",
    "### What is Learning?\n",
    "Learning is the ability to improve at a **task**. Learning is done by animals, humans, and some machines.\n",
    "\n",
    "### What is a task?\n",
    "A task is a clearly defined piece of work.\n",
    "\n",
    "### Measuring task performance\n",
    "Learning happens when the person or machine improves its performance at completing the task. \n",
    "\n",
    "### What is Machine Learning?\n",
    "Machine learning is often defined as the ability of a machine to learn (to improve on a specific task) without being explicitly programmed to do so.\n",
    "\n",
    "### What is \"not explicitly programmed\"?\n",
    "Not updated by a human\n",
    "\n",
    "### The two types of machine learning\n",
    "* **supervised** - have labels (ground truth)\n",
    "* **unsupervised** - no labels\n",
    "\n",
    "### Regression vs Classification\n",
    "* **regression** - continuous value labels\n",
    "* **classification** - discrete labels\n",
    "\n",
    "\n",
    "## Terminology\n",
    "\n",
    "![][1]\n",
    "\n",
    "\n",
    "## Assessing task performance\n",
    "Objectively quantifiable measure of performance\n",
    "\n",
    "### Assessing regression task performance\n",
    "Minimize error\n",
    "\n",
    "### Make prediction on unseen data\n",
    "We only care about unseen data\n",
    "\n",
    "[1]: images/terminology.png"
   ]
  },
  {
   "cell_type": "markdown",
   "metadata": {},
   "source": [
    "## Ames Housing Data"
   ]
  },
  {
   "cell_type": "markdown",
   "metadata": {
    "slideshow": {
     "slide_type": "fragment"
    }
   },
   "source": [
    "* [Famous beginners Kaggle competition][0] compiled by professor Dean De Cock from Ames, Iowa from 2006 - 2010\n",
    "* Original dataset has 79 features and 1460 samples\n",
    "* For simplicity, we will only look at 8 features\n",
    "* Predict sale price\n",
    "* Evaluation metric - R^2 - least squared error\n",
    "\n",
    "[0]: https://www.kaggle.com/c/house-prices-advanced-regression-techniques"
   ]
  },
  {
   "cell_type": "markdown",
   "metadata": {},
   "source": [
    "### Read in Data"
   ]
  },
  {
   "cell_type": "code",
   "execution_count": null,
   "metadata": {},
   "outputs": [],
   "source": [
    "import pandas as pd\n",
    "import numpy as np\n",
    "import seaborn as sns\n",
    "%matplotlib inline"
   ]
  },
  {
   "cell_type": "code",
   "execution_count": null,
   "metadata": {},
   "outputs": [],
   "source": []
  },
  {
   "cell_type": "markdown",
   "metadata": {},
   "source": [
    "## Quick EDA with pandas_profiling"
   ]
  },
  {
   "cell_type": "code",
   "execution_count": null,
   "metadata": {},
   "outputs": [],
   "source": [
    "from pandas_profiling import ProfileReport"
   ]
  },
  {
   "cell_type": "code",
   "execution_count": null,
   "metadata": {},
   "outputs": [],
   "source": []
  },
  {
   "cell_type": "markdown",
   "metadata": {},
   "source": [
    "### What are we predicting?\n",
    "In this problem, we want to predict the final sale price of the house.\n",
    "\n",
    "### Assign target variable to `y`"
   ]
  },
  {
   "cell_type": "code",
   "execution_count": null,
   "metadata": {},
   "outputs": [],
   "source": []
  },
  {
   "cell_type": "markdown",
   "metadata": {},
   "source": [
    "### Baseline model for regression\n",
    "Guess the mean"
   ]
  },
  {
   "cell_type": "code",
   "execution_count": null,
   "metadata": {},
   "outputs": [],
   "source": []
  },
  {
   "cell_type": "markdown",
   "metadata": {},
   "source": [
    "### Choose a single column to learn from\n",
    "Use ground living area - high correlation with sales price"
   ]
  },
  {
   "cell_type": "code",
   "execution_count": null,
   "metadata": {},
   "outputs": [],
   "source": []
  },
  {
   "cell_type": "markdown",
   "metadata": {},
   "source": [
    "### Linear Regression\n",
    "\n",
    "Maps input to output using the following equation.\n",
    "\n",
    "$$y = w_{0} + w_{1}x_{1}$$"
   ]
  },
  {
   "cell_type": "markdown",
   "metadata": {},
   "source": [
    "### Extract columns into own variable"
   ]
  },
  {
   "cell_type": "code",
   "execution_count": null,
   "metadata": {},
   "outputs": [],
   "source": []
  },
  {
   "cell_type": "markdown",
   "metadata": {},
   "source": [
    "## Import, Instantiate, Fit - Three-step process for all Estimators\n",
    "* Import - find model in scikit-learn 'house'\n",
    "* Instantiate - create a single instance of the model\n",
    "* Fit - learn from data\n",
    "\n",
    "All scikit-learn estimators follow this three-step process"
   ]
  },
  {
   "cell_type": "markdown",
   "metadata": {},
   "source": [
    "### Step 1: Import"
   ]
  },
  {
   "cell_type": "code",
   "execution_count": null,
   "metadata": {},
   "outputs": [],
   "source": []
  },
  {
   "cell_type": "markdown",
   "metadata": {},
   "source": [
    "### Step 2: Instantiate"
   ]
  },
  {
   "cell_type": "code",
   "execution_count": null,
   "metadata": {},
   "outputs": [],
   "source": []
  },
  {
   "cell_type": "markdown",
   "metadata": {},
   "source": [
    "### Step 3: Fit"
   ]
  },
  {
   "cell_type": "code",
   "execution_count": null,
   "metadata": {},
   "outputs": [],
   "source": []
  },
  {
   "cell_type": "markdown",
   "metadata": {},
   "source": [
    "### Get the model"
   ]
  },
  {
   "cell_type": "code",
   "execution_count": null,
   "metadata": {},
   "outputs": [],
   "source": []
  },
  {
   "cell_type": "code",
   "execution_count": null,
   "metadata": {},
   "outputs": [],
   "source": []
  },
  {
   "cell_type": "markdown",
   "metadata": {},
   "source": [
    "### How does linear regression work\n",
    "Finds best combination of coefficients(weights) that minimize the squared error\n",
    "\n",
    "![][0]\n",
    "\n",
    "[0]: images/r2.png"
   ]
  },
  {
   "cell_type": "markdown",
   "metadata": {},
   "source": [
    "### Make predictions\n",
    "`predict` method"
   ]
  },
  {
   "cell_type": "code",
   "execution_count": null,
   "metadata": {},
   "outputs": [],
   "source": []
  },
  {
   "cell_type": "code",
   "execution_count": null,
   "metadata": {},
   "outputs": [],
   "source": []
  },
  {
   "cell_type": "markdown",
   "metadata": {},
   "source": [
    "### Evaluate model - get R-squared\n",
    "`score` method"
   ]
  },
  {
   "cell_type": "code",
   "execution_count": null,
   "metadata": {},
   "outputs": [],
   "source": []
  },
  {
   "cell_type": "markdown",
   "metadata": {},
   "source": [
    "### Multiple Linear Regression\n",
    "Use more than one predictor variable"
   ]
  },
  {
   "cell_type": "code",
   "execution_count": null,
   "metadata": {},
   "outputs": [],
   "source": []
  },
  {
   "cell_type": "code",
   "execution_count": null,
   "metadata": {},
   "outputs": [],
   "source": []
  },
  {
   "cell_type": "code",
   "execution_count": null,
   "metadata": {},
   "outputs": [],
   "source": []
  },
  {
   "cell_type": "code",
   "execution_count": null,
   "metadata": {},
   "outputs": [],
   "source": []
  },
  {
   "cell_type": "markdown",
   "metadata": {},
   "source": [
    "## Other ML models - The scikit-learn house\n",
    "\n",
    "![][0]\n",
    "\n",
    "[0]: images/scikit_house.png"
   ]
  },
  {
   "cell_type": "markdown",
   "metadata": {},
   "source": [
    "## K-Nearest Neighbors\n",
    "Same three-step process"
   ]
  },
  {
   "cell_type": "code",
   "execution_count": null,
   "metadata": {},
   "outputs": [],
   "source": []
  },
  {
   "cell_type": "code",
   "execution_count": null,
   "metadata": {},
   "outputs": [],
   "source": []
  },
  {
   "cell_type": "markdown",
   "metadata": {},
   "source": [
    "## Decision Trees"
   ]
  },
  {
   "cell_type": "code",
   "execution_count": null,
   "metadata": {},
   "outputs": [],
   "source": []
  },
  {
   "cell_type": "markdown",
   "metadata": {},
   "source": [
    "## Model evaluation\n",
    "Must evaluate ourselves on unseen data. Use cross-validation.\n",
    "\n",
    "![][0]\n",
    "\n",
    "[0]: images/kfold.png"
   ]
  },
  {
   "cell_type": "code",
   "execution_count": null,
   "metadata": {},
   "outputs": [],
   "source": []
  },
  {
   "cell_type": "code",
   "execution_count": null,
   "metadata": {},
   "outputs": [],
   "source": []
  },
  {
   "cell_type": "code",
   "execution_count": null,
   "metadata": {},
   "outputs": [],
   "source": []
  },
  {
   "cell_type": "markdown",
   "metadata": {},
   "source": [
    "## Tune Hyper-parameters with grid-search\n",
    "create parameter grid then do three step process"
   ]
  },
  {
   "cell_type": "code",
   "execution_count": null,
   "metadata": {},
   "outputs": [],
   "source": []
  },
  {
   "cell_type": "code",
   "execution_count": null,
   "metadata": {},
   "outputs": [],
   "source": []
  },
  {
   "cell_type": "code",
   "execution_count": null,
   "metadata": {},
   "outputs": [],
   "source": []
  },
  {
   "cell_type": "markdown",
   "metadata": {},
   "source": [
    "### Grid search results"
   ]
  },
  {
   "cell_type": "code",
   "execution_count": null,
   "metadata": {},
   "outputs": [],
   "source": []
  },
  {
   "cell_type": "markdown",
   "metadata": {},
   "source": [
    "## Extra\n",
    "* Remedying missing values\n",
    "* Categorical features\n",
    "* Feature Standardization\n",
    "* Pipelines"
   ]
  }
 ],
 "metadata": {
  "kernelspec": {
   "display_name": "Python 3",
   "language": "python",
   "name": "python3"
  },
  "language_info": {
   "codemirror_mode": {
    "name": "ipython",
    "version": 3
   },
   "file_extension": ".py",
   "mimetype": "text/x-python",
   "name": "python",
   "nbconvert_exporter": "python",
   "pygments_lexer": "ipython3",
   "version": "3.7.3"
  }
 },
 "nbformat": 4,
 "nbformat_minor": 2
}
